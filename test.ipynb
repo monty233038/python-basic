{
 "cells": [
  {
   "cell_type": "code",
   "execution_count": 2,
   "metadata": {},
   "outputs": [
    {
     "data": {
      "text/plain": [
       "0.061257800000021234"
      ]
     },
     "execution_count": 2,
     "metadata": {},
     "output_type": "execute_result"
    }
   ],
   "source": [
    "import timeit\n",
    "timeit.timeit('\"-\".join(str(n) for n in range(100))',number=1000)"
   ]
  },
  {
   "cell_type": "code",
   "execution_count": 3,
   "metadata": {},
   "outputs": [
    {
     "data": {
      "text/plain": [
       "0.050233399999910944"
      ]
     },
     "execution_count": 3,
     "metadata": {},
     "output_type": "execute_result"
    }
   ],
   "source": [
    "timeit.timeit('\"-\".join([str(n) for n in range(100)])',number=1000)"
   ]
  },
  {
   "cell_type": "code",
   "execution_count": 4,
   "metadata": {},
   "outputs": [
    {
     "data": {
      "text/plain": [
       "0.03370570000004136"
      ]
     },
     "execution_count": 4,
     "metadata": {},
     "output_type": "execute_result"
    }
   ],
   "source": [
    "timeit.timeit('\"-\".join(map(str,range(100)))',number=1000)"
   ]
  },
  {
   "cell_type": "code",
   "execution_count": 6,
   "metadata": {},
   "outputs": [
    {
     "name": "stdout",
     "output_type": "stream",
     "text": [
      "40.7 µs ± 1.32 µs per loop (mean ± std. dev. of 7 runs, 10000 loops each)\n"
     ]
    }
   ],
   "source": [
    "%timeit \"-\".join(str(n) for n in range(100))"
   ]
  },
  {
   "cell_type": "code",
   "execution_count": 13,
   "metadata": {},
   "outputs": [
    {
     "data": {
      "text/plain": [
       "0.0019097000001693232"
      ]
     },
     "execution_count": 13,
     "metadata": {},
     "output_type": "execute_result"
    }
   ],
   "source": [
    "timeit.timeit('range(12000000000000000000000000000000000000000000000000000000000000000000000000000000000000000000)',number=1000)"
   ]
  },
  {
   "cell_type": "code",
   "execution_count": 42,
   "metadata": {},
   "outputs": [
    {
     "name": "stdout",
     "output_type": "stream",
     "text": [
      "['mohit is is ', ' isi isisisi isis']\n"
     ]
    }
   ],
   "source": [
    "from collections import Counter\n",
    "from collections import defaultdict\n",
    "from collections import OrderedDict\n",
    "import pdb\n",
    "from collections import namedtuple\n",
    "import timeit\n",
    "import re\n",
    "li = ['mohit','mohti','is','is','is']\n",
    "li1 = 'mohit is is @ isi isisisi isis'\n",
    "stri = 'mohit mohit is is is a good good good'\n",
    "stri1 = stri.split()\n",
    "dic1 = defaultdict(object)\n",
    "dic1['key1'] = 'mohit'\n",
    "dic1['key2'] = 'yogesh'\n",
    "dic1['y1']\n",
    "d1 = OrderedDict()\n",
    "d1['k1'] = 'mohit'\n",
    "d1['k2'] = 'yogesh'\n",
    "d2 = OrderedDict()\n",
    "d2['k2'] = 'yogesh'\n",
    "d2['k1'] = 'mohit'\n",
    "d1 == d2\n",
    "dog = namedtuple('dog','name breed')\n",
    "dog1 = dog(name='jacky',breed='german')\n",
    "timeit.timeit(\"range(100000)\",number=100)\n",
    "print(re.split('@',li1))"
   ]
  },
  {
   "cell_type": "code",
   "execution_count": 28,
   "metadata": {},
   "outputs": [
    {
     "data": {
      "text/plain": [
       "'german'"
      ]
     },
     "execution_count": 28,
     "metadata": {},
     "output_type": "execute_result"
    }
   ],
   "source": [
    "dog1.breed"
   ]
  },
  {
   "cell_type": "code",
   "execution_count": null,
   "metadata": {},
   "outputs": [],
   "source": []
  },
  {
   "cell_type": "code",
   "execution_count": 27,
   "metadata": {},
   "outputs": [
    {
     "data": {
      "application/vnd.jupyter.widget-view+json": {
       "model_id": "8bc39f1b4a2a47959a8363e588320af0",
       "version_major": 2,
       "version_minor": 0
      },
      "text/plain": [
       "interactive(children=(IntSlider(value=0, description='x', max=10, min=-10), IntSlider(value=10, description='y…"
      ]
     },
     "metadata": {},
     "output_type": "display_data"
    },
    {
     "data": {
      "text/plain": [
       "<function __main__.func(x, y)>"
      ]
     },
     "execution_count": 27,
     "metadata": {},
     "output_type": "execute_result"
    }
   ],
   "source": [
    "from ipywidgets import interact,interactive,fixed\n",
    "import ipywidgets as widget\n",
    "def func(x,y):\n",
    "    return x,y\n",
    "interact(func,x=widget.IntSlider(min=-10,max=10,step=1,value=0),y=10)\n"
   ]
  },
  {
   "cell_type": "code",
   "execution_count": 31,
   "metadata": {},
   "outputs": [
    {
     "data": {
      "application/vnd.jupyter.widget-view+json": {
       "model_id": "c191c6be201742268625f3cd56186f7a",
       "version_major": 2,
       "version_minor": 0
      },
      "text/plain": [
       "interactive(children=(Checkbox(value=False, description='accept'), Text(value='', description='name'), Text(va…"
      ]
     },
     "metadata": {},
     "output_type": "display_data"
    }
   ],
   "source": [
    "@interact(accept=False,name='',surname='',choose=(0,5,1),sel=['vidisha','bhopal','sehore','ganj basoda','bhadbhada'])\n",
    "def hello(accept,name,surname,choose,sel):\n",
    "    return accept,name,surname,choose,sel"
   ]
  },
  {
   "cell_type": "code",
   "execution_count": 1,
   "metadata": {},
   "outputs": [
    {
     "data": {
      "application/vnd.jupyter.widget-view+json": {
       "model_id": "eb3d9c415cf341ab844a0476f8f820b6",
       "version_major": 2,
       "version_minor": 0
      },
      "text/plain": [
       "interactive(children=(Text(value='', description='name'), Text(value='', description='en'), Dropdown(descripti…"
      ]
     },
     "metadata": {},
     "output_type": "display_data"
    }
   ],
   "source": [
    "from IPython.display import display\n",
    "from ipywidgets import interact,interactive,fixed\n",
    "import ipywidgets as widgets\n",
    "def student(name,en,branch,sno,clg,rating,accept):\n",
    "    display(name,en,branch,sno,clg,rating,accept)\n",
    "    return name,en,branch,sno,clg\n",
    "w = interactive(student,name='',en='',branch=['cs','ec','me','ex','civil'],sno='',clg=['TRUBA 1','TRUBA 2'],rating=widgets.IntSlider(min=0,max=5,step=1,value=5),accept=False)\n",
    "display(w)"
   ]
  },
  {
   "cell_type": "code",
   "execution_count": null,
   "metadata": {},
   "outputs": [],
   "source": []
  }
 ],
 "metadata": {
  "kernelspec": {
   "display_name": "Python 3",
   "language": "python",
   "name": "python3"
  },
  "language_info": {
   "codemirror_mode": {
    "name": "ipython",
    "version": 3
   },
   "file_extension": ".py",
   "mimetype": "text/x-python",
   "name": "python",
   "nbconvert_exporter": "python",
   "pygments_lexer": "ipython3",
   "version": "3.7.3"
  }
 },
 "nbformat": 4,
 "nbformat_minor": 2
}
